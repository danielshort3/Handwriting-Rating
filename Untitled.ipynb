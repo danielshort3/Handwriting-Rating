{
 "cells": [
  {
   "cell_type": "code",
   "execution_count": null,
   "id": "31ce3f42-1d5b-4770-bd0a-447a7adca5c9",
   "metadata": {},
   "outputs": [],
   "source": []
  }
 ],
 "metadata": {
  "kernelspec": {
   "display_name": "Python (HuggingFace)",
   "language": "python",
   "name": "gj-ml"
  },
  "language_info": {
   "codemirror_mode": {
    "name": "ipython",
    "version": 3
   },
   "file_extension": ".py",
   "mimetype": "text/x-python",
   "name": "python",
   "nbconvert_exporter": "python",
   "pygments_lexer": "ipython3",
   "version": "3.12.9"
  }
 },
 "nbformat": 4,
 "nbformat_minor": 5
}
